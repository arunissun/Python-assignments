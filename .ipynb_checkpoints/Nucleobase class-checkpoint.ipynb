{
 "cells": [
  {
   "cell_type": "code",
   "execution_count": 1,
   "id": "4878d2db",
   "metadata": {},
   "outputs": [],
   "source": [
    "import numpy as np\n",
    "import pandas as pd"
   ]
  },
  {
   "cell_type": "code",
   "execution_count": 2,
   "id": "f259637f",
   "metadata": {},
   "outputs": [],
   "source": [
    "from functools import total_ordering\n",
    "\n",
    "mw_a = 135.13\n",
    "mw_c = 111.1\n",
    "mw_t = 126.11\n",
    "mw_g = 151.13\n",
    "nucleobase = [\"adenine\", \"cytosine\", \"tryosine\", \"guanine\", \"a\",\"c\", \"t\", \"g\"]\n",
    "#@total_ordering\n",
    "class Nucleobase():\n",
    "\n",
    " \n",
    "    def __init__(self, name):\n",
    "            \n",
    "        if name.lower() not in nucleobase:\n",
    "            raise ValueError(\"not a valid input\")\n",
    "        \n",
    "        elif name.lower() ==nucleobase[4] or name.lower() == nucleobase[0]:\n",
    "            self.name = \"Adenine\"\n",
    "            self.molecular_weight = mw_a\n",
    "            self.complimenter = nucleobase[2]\n",
    "            self.code = \"A\"\n",
    "            \n",
    "        elif name.lower() ==nucleobase[5] or name.lower() == nucleobase[1]:\n",
    "            self.name = \"Cytosine\"\n",
    "            self.molecular_weight = mw_c\n",
    "            self.complimenter = nucleobase[3]\n",
    "            self.code = \"C\"\n",
    "          \n",
    "        elif name.lower() ==nucleobase[6] or name.lower() == nucleobase[2]:\n",
    "            self.name = \"Tryosine\"\n",
    "            self.molecular_weight = mw_t\n",
    "            self.complimenter = nucleobase[0]\n",
    "            self.code = \"T\"\n",
    "            \n",
    "        elif name.lower() ==nucleobase[7] or name.lower() == nucleobase[3]:\n",
    "            self.name = \"Guanine\"\n",
    "            self.molecular_weight = mw_g\n",
    "            self.complimenter = nucleobase[1]\n",
    "            self.code = \"G\"\n",
    "        \n",
    "        \n",
    "    @classmethod\n",
    "    def compliment(cls,name):\n",
    "        if name.lower() not in nucleobase:\n",
    "            raise ValueError(\"not a valid input\")\n",
    "            \n",
    "        elif name.lower() ==nucleobase[4] or name.lower() == nucleobase[0]:\n",
    "            name = \"Tryosine\"\n",
    "            \n",
    "            \n",
    "        elif name.lower() ==nucleobase[5] or name.lower() == nucleobase[1]:\n",
    "            name = \"Guanine\"\n",
    "            \n",
    "          \n",
    "        elif name.lower() ==nucleobase[6] or name.lower() == nucleobase[2]:\n",
    "            name = \"Adenine\"\n",
    "            \n",
    "        elif name.lower() ==nucleobase[7] or name.lower() == nucleobase[3]:\n",
    "            name = \"Cytosine\"\n",
    "\n",
    "        return cls(name)\n",
    "    \n",
    "    \n",
    "    def __eq__(self, other):\n",
    "        return self.molecular_weight == other.molecular_weight\n",
    "\n",
    "    def __lt__(self, other):\n",
    "        return self.molecular_weight < other.molecular_weight\n",
    "    def __gt__(self, other):\n",
    "        return self.molecular_weight > other.molecular_weight\n",
    "    \n",
    "    def __repr__(self):\n",
    "        return \"name: {}\\nmolecular wieght: {}\\ncomplementer: {}\\ncode: {}\".format(self.name, \n",
    "                                                                                   self.molecular_weight,\n",
    "                                                                                   self.complimenter,\n",
    "                                                                                   self.code)\n",
    "    def __add__(self, other):\n",
    "        dna = self.code + other.code\n",
    "        return DNA(dna)\n",
    "\n",
    "    \n",
    "            \n",
    "    \n",
    "       "
   ]
  },
  {
   "cell_type": "code",
   "execution_count": 3,
   "id": "0cc955d4",
   "metadata": {},
   "outputs": [],
   "source": [
    "dictt = {\"A\" : 135.13, \"T\" :126.11 , \"C\": 111.1, \"G\": 151.13}\n",
    "\n",
    "    \n",
    "class DNA(list):\n",
    "    \n",
    "    def __init__(self, nucleobases_many):\n",
    "        nucleobase_list = []\n",
    "        for i in nucleobases_many:\n",
    "            d = Nucleobase(i)\n",
    "            nucleobase_list.append(d)\n",
    "            \n",
    "        self.nucleobase_list = nucleobase_list\n",
    "        \n",
    "        super().__init__(nucleobase_list)\n",
    "    \n",
    "    def __iter__(self):\n",
    "        return iter(self.nucleobase_list)\n",
    " \n",
    "    def molecular_weight(self):\n",
    "        seq = ''\n",
    "        for i in range (len(self.nucleobase_list)):\n",
    "            seq += self.nucleobase_list[i].name[0].upper()\n",
    "        a = list(seq)\n",
    "        y = 0\n",
    "        for i in range(len(a)):\n",
    "            y += dictt[a.pop(0)]\n",
    "        \n",
    "        return y\n",
    "    def compliment(self):\n",
    "        seq = ''\n",
    "        for i in range (len(self.nucleobase_list)):\n",
    "            seq += self.nucleobase_list[i].name[0].upper()\n",
    "        b = list(seq)\n",
    "        for i in range(len(b)):\n",
    "            if b[i] =='A':\n",
    "                b[i] = \"T\"\n",
    "            elif b[i] == \"G\":\n",
    "                b[i] =\"C\"\n",
    "                \n",
    "            elif b[i] == \"C\":\n",
    "                b[i] =\"G\"\n",
    "                \n",
    "            elif b[i] == \"T\":\n",
    "                b[i] =\"A\"\n",
    "                \n",
    "        dna = \"\".join(b)\n",
    "        return(dna)\n",
    "    def __str__(self):\n",
    "        seq = ''\n",
    "        for i in range (len(self.nucleobase_list)):\n",
    "            seq += self.nucleobase_list[i].name[0].upper()\n",
    "            \n",
    "        return seq"
   ]
  },
  {
   "cell_type": "code",
   "execution_count": 4,
   "id": "a179bceb",
   "metadata": {},
   "outputs": [],
   "source": [
    "# if type(nucleobases_many) == list:\n",
    "       #     x = \"\"\n",
    "       #     for letter in nucleobases_many:\n",
    "       #         if letter.lower() not in nucleobase:\n",
    "       #             raise ValueError('not a valid input')\n",
    "       #         else:\n",
    "       #             \n",
    "       #             x+= \"\".join(letter[0].upper())\n",
    "       #     self.dna = x\n",
    "       #         \n",
    "       #     \n",
    "       # elif type(nucleobases_many) == str:\n",
    "       #     for letter in nucleobases_many:\n",
    "       #         if letter.lower() not in nucleobase:\n",
    "       #             raise ValueError('not a valid input')\n",
    "       #             \n",
    "       #         else:\n",
    "       #             \n",
    "       #             self.dna = nucleobases_many.upper()\n",
    "       #     \n",
    "       # else:\n",
    "       #     raise ValueError('not a valid input')\n",
    "       # super().__init__(nucleobases_many)\n",
    "        \n",
    "        \n",
    "   # #def __str__(self):\n",
    "   #  #   return self.dna\n",
    "   # "
   ]
  },
  {
   "cell_type": "code",
   "execution_count": 5,
   "id": "c56bb173",
   "metadata": {},
   "outputs": [
    {
     "name": "stdout",
     "output_type": "stream",
     "text": [
      "name: Adenine\n",
      "molecular wieght: 135.13\n",
      "complementer: tryosine\n",
      "code: A \n",
      "name: Cytosine\n",
      "molecular wieght: 111.1\n",
      "complementer: guanine\n",
      "code: C \n",
      "name: Tryosine\n",
      "molecular wieght: 126.11\n",
      "complementer: adenine\n",
      "code: T \n",
      "name: Guanine\n",
      "molecular wieght: 151.13\n",
      "complementer: cytosine\n",
      "code: G \n",
      "name: Adenine\n",
      "molecular wieght: 135.13\n",
      "complementer: tryosine\n",
      "code: A \n",
      "name: Guanine\n",
      "molecular wieght: 151.13\n",
      "complementer: cytosine\n",
      "code: G \n",
      "name: Cytosine\n",
      "molecular wieght: 111.1\n",
      "complementer: guanine\n",
      "code: C \n",
      "name: Tryosine\n",
      "molecular wieght: 126.11\n",
      "complementer: adenine\n",
      "code: T\n"
     ]
    }
   ],
   "source": [
    "A = Nucleobase('A')\n",
    "B = Nucleobase('C')\n",
    "C = Nucleobase('T')\n",
    "D = Nucleobase('G')\n",
    "E = Nucleobase('aDeNine')\n",
    "F = Nucleobase('GuaNine')\n",
    "G = Nucleobase('cytoSine')\n",
    "H = Nucleobase('Tryosine')\n",
    "print(A, B, C, D, E, F, G, H, sep= ' \\n')"
   ]
  },
  {
   "cell_type": "code",
   "execution_count": 6,
   "id": "c7023408",
   "metadata": {},
   "outputs": [
    {
     "data": {
      "text/plain": [
       "[name: Adenine\n",
       " molecular wieght: 135.13\n",
       " complementer: tryosine\n",
       " code: A,\n",
       " name: Cytosine\n",
       " molecular wieght: 111.1\n",
       " complementer: guanine\n",
       " code: C]"
      ]
     },
     "execution_count": 6,
     "metadata": {},
     "output_type": "execute_result"
    }
   ],
   "source": [
    "A+B"
   ]
  },
  {
   "cell_type": "code",
   "execution_count": 16,
   "id": "d33ff898",
   "metadata": {},
   "outputs": [
    {
     "name": "stdout",
     "output_type": "stream",
     "text": [
      "name: Tryosine\n",
      "molecular wieght: 126.11\n",
      "complementer: adenine\n",
      "code: T\n",
      "adenine\n",
      "126.11\n"
     ]
    }
   ],
   "source": [
    "B = A.compliment(A.name)\n",
    "print(B, B.complimenter, B.molecular_weight, sep ='\\n')"
   ]
  },
  {
   "cell_type": "code",
   "execution_count": 17,
   "id": "3606b5ff",
   "metadata": {},
   "outputs": [
    {
     "data": {
      "text/plain": [
       "name: Adenine\n",
       "molecular wieght: 135.13\n",
       "complementer: tryosine\n",
       "code: A"
      ]
     },
     "execution_count": 17,
     "metadata": {},
     "output_type": "execute_result"
    }
   ],
   "source": [
    "B.compliment(B.name)"
   ]
  },
  {
   "cell_type": "code",
   "execution_count": 18,
   "id": "c067a4f1",
   "metadata": {},
   "outputs": [
    {
     "name": "stdout",
     "output_type": "stream",
     "text": [
      "A\n",
      "T\n"
     ]
    }
   ],
   "source": [
    "print(A.code, B.code, sep = '\\n')"
   ]
  },
  {
   "cell_type": "code",
   "execution_count": 19,
   "id": "99c91f53",
   "metadata": {},
   "outputs": [
    {
     "data": {
      "text/plain": [
       "135.13"
      ]
     },
     "execution_count": 19,
     "metadata": {},
     "output_type": "execute_result"
    }
   ],
   "source": [
    "A.molecular_weight"
   ]
  },
  {
   "cell_type": "code",
   "execution_count": 20,
   "id": "97568ef8",
   "metadata": {},
   "outputs": [
    {
     "data": {
      "text/plain": [
       "126.11"
      ]
     },
     "execution_count": 20,
     "metadata": {},
     "output_type": "execute_result"
    }
   ],
   "source": [
    "B.molecular_weight"
   ]
  },
  {
   "cell_type": "code",
   "execution_count": 21,
   "id": "bbc552f8",
   "metadata": {},
   "outputs": [
    {
     "data": {
      "text/plain": [
       "True"
      ]
     },
     "execution_count": 21,
     "metadata": {},
     "output_type": "execute_result"
    }
   ],
   "source": [
    "A > B"
   ]
  },
  {
   "cell_type": "code",
   "execution_count": 22,
   "id": "f102810f",
   "metadata": {},
   "outputs": [
    {
     "name": "stdout",
     "output_type": "stream",
     "text": [
      "135.13\n",
      "126.11\n",
      "126.11\n",
      "151.13\n",
      "True\n",
      "False\n",
      "True\n"
     ]
    }
   ],
   "source": [
    "print(A.molecular_weight,B.molecular_weight, C.molecular_weight, D.molecular_weight, sep = '\\n')\n",
    "print(A>B, B>C, D> C, sep = '\\n')"
   ]
  },
  {
   "cell_type": "code",
   "execution_count": 33,
   "id": "8e4497e2",
   "metadata": {},
   "outputs": [
    {
     "name": "stdout",
     "output_type": "stream",
     "text": [
      "1317.2000000000003\n"
     ]
    }
   ],
   "source": [
    "X = DNA('atcgaatcga')\n",
    "print(X.molecular_weight())"
   ]
  },
  {
   "cell_type": "code",
   "execution_count": 34,
   "id": "1a2ff7ec",
   "metadata": {},
   "outputs": [
    {
     "data": {
      "text/plain": [
       "'TAGCTTAGCT'"
      ]
     },
     "execution_count": 34,
     "metadata": {},
     "output_type": "execute_result"
    }
   ],
   "source": [
    "c = X.compliment()\n",
    "c"
   ]
  },
  {
   "cell_type": "code",
   "execution_count": 35,
   "id": "14bba54c",
   "metadata": {},
   "outputs": [
    {
     "data": {
      "text/plain": [
       "__main__.Nucleobase"
      ]
     },
     "execution_count": 35,
     "metadata": {},
     "output_type": "execute_result"
    }
   ],
   "source": [
    "type(X[0])"
   ]
  },
  {
   "cell_type": "code",
   "execution_count": 36,
   "id": "aeded10e",
   "metadata": {},
   "outputs": [
    {
     "name": "stdout",
     "output_type": "stream",
     "text": [
      "ATCGAATCGA\n"
     ]
    }
   ],
   "source": [
    "print(X)"
   ]
  },
  {
   "cell_type": "code",
   "execution_count": 37,
   "id": "06d7ad87",
   "metadata": {},
   "outputs": [
    {
     "name": "stdout",
     "output_type": "stream",
     "text": [
      "<class '__main__.Nucleobase'>\n",
      "<class '__main__.Nucleobase'>\n",
      "<class '__main__.Nucleobase'>\n",
      "<class '__main__.Nucleobase'>\n",
      "<class '__main__.Nucleobase'>\n",
      "<class '__main__.Nucleobase'>\n",
      "<class '__main__.Nucleobase'>\n",
      "<class '__main__.Nucleobase'>\n",
      "<class '__main__.Nucleobase'>\n",
      "<class '__main__.Nucleobase'>\n",
      "name: Adenine\n",
      "molecular wieght: 135.13\n",
      "complementer: tryosine\n",
      "code: A\n",
      "name: Tryosine\n",
      "molecular wieght: 126.11\n",
      "complementer: adenine\n",
      "code: T\n",
      "name: Cytosine\n",
      "molecular wieght: 111.1\n",
      "complementer: guanine\n",
      "code: C\n",
      "name: Guanine\n",
      "molecular wieght: 151.13\n",
      "complementer: cytosine\n",
      "code: G\n",
      "name: Adenine\n",
      "molecular wieght: 135.13\n",
      "complementer: tryosine\n",
      "code: A\n",
      "name: Adenine\n",
      "molecular wieght: 135.13\n",
      "complementer: tryosine\n",
      "code: A\n",
      "name: Tryosine\n",
      "molecular wieght: 126.11\n",
      "complementer: adenine\n",
      "code: T\n",
      "name: Cytosine\n",
      "molecular wieght: 111.1\n",
      "complementer: guanine\n",
      "code: C\n",
      "name: Guanine\n",
      "molecular wieght: 151.13\n",
      "complementer: cytosine\n",
      "code: G\n",
      "name: Adenine\n",
      "molecular wieght: 135.13\n",
      "complementer: tryosine\n",
      "code: A\n"
     ]
    }
   ],
   "source": [
    "for i in X:\n",
    "    print(type(i))\n",
    "    \n",
    "for i in X:\n",
    "    print((i))"
   ]
  },
  {
   "cell_type": "code",
   "execution_count": 38,
   "id": "f734387f",
   "metadata": {},
   "outputs": [
    {
     "name": "stdout",
     "output_type": "stream",
     "text": [
      "ATCGAATCGA\n"
     ]
    }
   ],
   "source": [
    "print(X)"
   ]
  },
  {
   "cell_type": "code",
   "execution_count": 39,
   "id": "0f6033aa",
   "metadata": {},
   "outputs": [
    {
     "name": "stdout",
     "output_type": "stream",
     "text": [
      "TTCGTA\n",
      "name: Adenine\n",
      "molecular wieght: 135.13\n",
      "complementer: tryosine\n",
      "code: A\n",
      "<class '__main__.Nucleobase'>\n",
      "name: Adenine\n",
      "molecular wieght: 135.13\n",
      "complementer: tryosine\n",
      "code: A\n",
      "<class '__main__.Nucleobase'>\n",
      "name: Guanine\n",
      "molecular wieght: 151.13\n",
      "complementer: cytosine\n",
      "code: G\n",
      "<class '__main__.Nucleobase'>\n",
      "name: Cytosine\n",
      "molecular wieght: 111.1\n",
      "complementer: guanine\n",
      "code: C\n",
      "<class '__main__.Nucleobase'>\n",
      "name: Adenine\n",
      "molecular wieght: 135.13\n",
      "complementer: tryosine\n",
      "code: A\n",
      "<class '__main__.Nucleobase'>\n",
      "name: Tryosine\n",
      "molecular wieght: 126.11\n",
      "complementer: adenine\n",
      "code: T\n",
      "<class '__main__.Nucleobase'>\n",
      "AAGCAT\n"
     ]
    }
   ],
   "source": [
    "Y = DNA(['A', \"adenine\", 'g', 'c', 'a', 't'])\n",
    "print(Y.compliment())\n",
    "for i in Y:\n",
    "    print(i)\n",
    "    print(type(i))\n",
    "print(Y)\n"
   ]
  },
  {
   "cell_type": "code",
   "execution_count": 22,
   "id": "2422974e",
   "metadata": {},
   "outputs": [
    {
     "name": "stdout",
     "output_type": "stream",
     "text": [
      "AAGCAT\n",
      "974\n",
      "TAGGAT\n"
     ]
    }
   ],
   "source": [
    "print(Y)\n",
    "print(X.molecular_weight())\n",
    "print(X.compliment())"
   ]
  },
  {
   "cell_type": "code",
   "execution_count": 23,
   "id": "933294fd",
   "metadata": {},
   "outputs": [
    {
     "name": "stdout",
     "output_type": "stream",
     "text": [
      "name: Adenine\n",
      "molecular wieght: 135.13\n",
      "complementer: tryosine\n",
      "code: A\n",
      "<class '__main__.Nucleobase'>\n",
      "name: Adenine\n",
      "molecular wieght: 135.13\n",
      "complementer: tryosine\n",
      "code: A\n",
      "<class '__main__.Nucleobase'>\n",
      "name: Guanine\n",
      "molecular wieght: 151.13\n",
      "complementer: cytosine\n",
      "code: G\n",
      "<class '__main__.Nucleobase'>\n",
      "name: Cytosine\n",
      "molecular wieght: 111.1\n",
      "complementer: guanine\n",
      "code: C\n",
      "<class '__main__.Nucleobase'>\n",
      "name: Adenine\n",
      "molecular wieght: 135.13\n",
      "complementer: tryosine\n",
      "code: A\n",
      "<class '__main__.Nucleobase'>\n",
      "name: Tryosine\n",
      "molecular wieght: 126.11\n",
      "complementer: adenine\n",
      "code: T\n",
      "<class '__main__.Nucleobase'>\n"
     ]
    }
   ],
   "source": [
    "for i in Y:\n",
    "    print(i)\n",
    "    print(type(i))"
   ]
  },
  {
   "cell_type": "code",
   "execution_count": 24,
   "id": "035ea1df",
   "metadata": {},
   "outputs": [
    {
     "data": {
      "text/plain": [
       "[name: Adenine\n",
       " molecular wieght: 135.13\n",
       " complementer: tryosine\n",
       " code: A,\n",
       " name: Cytosine\n",
       " molecular wieght: 111.1\n",
       " complementer: guanine\n",
       " code: C,\n",
       " name: Tryosine\n",
       " molecular wieght: 126.11\n",
       " complementer: adenine\n",
       " code: T,\n",
       " name: Guanine\n",
       " molecular wieght: 151.13\n",
       " complementer: cytosine\n",
       " code: G,\n",
       " name: Tryosine\n",
       " molecular wieght: 126.11\n",
       " complementer: adenine\n",
       " code: T,\n",
       " name: Tryosine\n",
       " molecular wieght: 126.11\n",
       " complementer: adenine\n",
       " code: T,\n",
       " name: Tryosine\n",
       " molecular wieght: 126.11\n",
       " complementer: adenine\n",
       " code: T]"
      ]
     },
     "execution_count": 24,
     "metadata": {},
     "output_type": "execute_result"
    }
   ],
   "source": [
    "X = DNA('ACTGTTT')\n",
    "X"
   ]
  },
  {
   "cell_type": "code",
   "execution_count": 40,
   "id": "c269ee04",
   "metadata": {},
   "outputs": [],
   "source": [
    "x = DNA(['adenine', 'guanine', 'c', 'g', 'Tryosine'])\n",
    "y = DNA('agtcgcTTTTAAA')"
   ]
  },
  {
   "cell_type": "code",
   "execution_count": 41,
   "id": "fd66dd43",
   "metadata": {},
   "outputs": [
    {
     "name": "stdout",
     "output_type": "stream",
     "text": [
      "AGTCGCTTTTAAA\n"
     ]
    }
   ],
   "source": [
    "print(y)"
   ]
  },
  {
   "cell_type": "code",
   "execution_count": 42,
   "id": "2695fa49",
   "metadata": {},
   "outputs": [
    {
     "name": "stdout",
     "output_type": "stream",
     "text": [
      "AGCGT\n"
     ]
    }
   ],
   "source": [
    "print(x)"
   ]
  },
  {
   "cell_type": "code",
   "execution_count": 43,
   "id": "6a7b87c7",
   "metadata": {},
   "outputs": [
    {
     "name": "stdout",
     "output_type": "stream",
     "text": [
      "AGCGT\n"
     ]
    }
   ],
   "source": [
    "print(x)"
   ]
  },
  {
   "cell_type": "code",
   "execution_count": 44,
   "id": "fe91559e",
   "metadata": {},
   "outputs": [
    {
     "name": "stdout",
     "output_type": "stream",
     "text": [
      "AGTCGCTTTTAAA\n"
     ]
    }
   ],
   "source": [
    "print(y)"
   ]
  },
  {
   "cell_type": "code",
   "execution_count": 45,
   "id": "38f0b55a",
   "metadata": {},
   "outputs": [
    {
     "data": {
      "text/plain": [
       "__main__.Nucleobase"
      ]
     },
     "execution_count": 45,
     "metadata": {},
     "output_type": "execute_result"
    }
   ],
   "source": [
    "type(y[0])"
   ]
  },
  {
   "cell_type": "code",
   "execution_count": 46,
   "id": "779a81c1",
   "metadata": {},
   "outputs": [
    {
     "data": {
      "text/plain": [
       "[name: Adenine\n",
       " molecular wieght: 135.13\n",
       " complementer: tryosine\n",
       " code: A,\n",
       " name: Guanine\n",
       " molecular wieght: 151.13\n",
       " complementer: cytosine\n",
       " code: G,\n",
       " name: Tryosine\n",
       " molecular wieght: 126.11\n",
       " complementer: adenine\n",
       " code: T,\n",
       " name: Cytosine\n",
       " molecular wieght: 111.1\n",
       " complementer: guanine\n",
       " code: C,\n",
       " name: Guanine\n",
       " molecular wieght: 151.13\n",
       " complementer: cytosine\n",
       " code: G,\n",
       " name: Cytosine\n",
       " molecular wieght: 111.1\n",
       " complementer: guanine\n",
       " code: C,\n",
       " name: Tryosine\n",
       " molecular wieght: 126.11\n",
       " complementer: adenine\n",
       " code: T,\n",
       " name: Tryosine\n",
       " molecular wieght: 126.11\n",
       " complementer: adenine\n",
       " code: T,\n",
       " name: Tryosine\n",
       " molecular wieght: 126.11\n",
       " complementer: adenine\n",
       " code: T,\n",
       " name: Tryosine\n",
       " molecular wieght: 126.11\n",
       " complementer: adenine\n",
       " code: T,\n",
       " name: Adenine\n",
       " molecular wieght: 135.13\n",
       " complementer: tryosine\n",
       " code: A,\n",
       " name: Adenine\n",
       " molecular wieght: 135.13\n",
       " complementer: tryosine\n",
       " code: A,\n",
       " name: Adenine\n",
       " molecular wieght: 135.13\n",
       " complementer: tryosine\n",
       " code: A]"
      ]
     },
     "execution_count": 46,
     "metadata": {},
     "output_type": "execute_result"
    }
   ],
   "source": [
    "y"
   ]
  },
  {
   "cell_type": "code",
   "execution_count": 47,
   "id": "83932101",
   "metadata": {},
   "outputs": [
    {
     "data": {
      "text/plain": [
       "__main__.Nucleobase"
      ]
     },
     "execution_count": 47,
     "metadata": {},
     "output_type": "execute_result"
    }
   ],
   "source": [
    "type(y[0])"
   ]
  },
  {
   "cell_type": "code",
   "execution_count": 48,
   "id": "dc37d1e2",
   "metadata": {},
   "outputs": [
    {
     "name": "stdout",
     "output_type": "stream",
     "text": [
      "<class '__main__.Nucleobase'>\n",
      "<class '__main__.Nucleobase'>\n",
      "<class '__main__.Nucleobase'>\n",
      "<class '__main__.Nucleobase'>\n",
      "<class '__main__.Nucleobase'>\n",
      "<class '__main__.Nucleobase'>\n",
      "<class '__main__.Nucleobase'>\n",
      "<class '__main__.Nucleobase'>\n",
      "<class '__main__.Nucleobase'>\n",
      "<class '__main__.Nucleobase'>\n",
      "<class '__main__.Nucleobase'>\n",
      "<class '__main__.Nucleobase'>\n",
      "<class '__main__.Nucleobase'>\n"
     ]
    }
   ],
   "source": [
    "for i in y:\n",
    "    print(type(i))"
   ]
  },
  {
   "cell_type": "code",
   "execution_count": 55,
   "id": "9dce67e4",
   "metadata": {},
   "outputs": [
    {
     "data": {
      "text/plain": [
       "1597"
      ]
     },
     "execution_count": 55,
     "metadata": {},
     "output_type": "execute_result"
    }
   ],
   "source": [
    "x.molecular_weight()"
   ]
  },
  {
   "cell_type": "code",
   "execution_count": 56,
   "id": "418ff657",
   "metadata": {},
   "outputs": [
    {
     "data": {
      "text/plain": [
       "'TCGCA'"
      ]
     },
     "execution_count": 56,
     "metadata": {},
     "output_type": "execute_result"
    }
   ],
   "source": [
    "x.compliment()"
   ]
  },
  {
   "cell_type": "code",
   "execution_count": 57,
   "id": "4750aa14",
   "metadata": {},
   "outputs": [
    {
     "name": "stdout",
     "output_type": "stream",
     "text": [
      "AGCGT\n"
     ]
    }
   ],
   "source": [
    "print(x)"
   ]
  },
  {
   "cell_type": "code",
   "execution_count": 40,
   "id": "1f5f47b4",
   "metadata": {},
   "outputs": [
    {
     "name": "stdout",
     "output_type": "stream",
     "text": [
      "<class '__main__.DNA'>\n",
      "<class '__main__.DNA'>\n",
      "<class '__main__.DNA'>\n",
      "<class '__main__.DNA'>\n",
      "<class '__main__.DNA'>\n"
     ]
    }
   ],
   "source": [
    "for i in x: print(type(x))"
   ]
  },
  {
   "cell_type": "code",
   "execution_count": null,
   "id": "09b6f83d",
   "metadata": {},
   "outputs": [],
   "source": []
  }
 ],
 "metadata": {
  "kernelspec": {
   "display_name": "Python 3 (ipykernel)",
   "language": "python",
   "name": "python3"
  },
  "language_info": {
   "codemirror_mode": {
    "name": "ipython",
    "version": 3
   },
   "file_extension": ".py",
   "mimetype": "text/x-python",
   "name": "python",
   "nbconvert_exporter": "python",
   "pygments_lexer": "ipython3",
   "version": "3.8.11"
  }
 },
 "nbformat": 4,
 "nbformat_minor": 5
}
